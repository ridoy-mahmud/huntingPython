{
 "cells": [
  {
   "cell_type": "code",
   "id": "007f90b3",
   "metadata": {
    "jupyter": {
     "is_executing": true
    }
   },
   "source": [
    "import pandas as pd"
   ],
   "outputs": [],
   "execution_count": null
  },
  {
   "cell_type": "code",
   "id": "e5a33472",
   "metadata": {
    "ExecuteTime": {
     "end_time": "2025-07-27T23:09:19.593195Z",
     "start_time": "2025-07-27T08:15:39.899141Z"
    }
   },
   "source": [
    "df = pd.DataFrame([[1,5,4],[3,9,4],[2,1,8]],columns=[\"x\",\"y\",\"z\"],index=[\"A\",\"B\",\"C\"])"
   ],
   "outputs": [],
   "execution_count": 4
  },
  {
   "cell_type": "code",
   "id": "42c46c52",
   "metadata": {
    "ExecuteTime": {
     "end_time": "2025-07-27T08:15:40.025465Z",
     "start_time": "2025-07-27T08:15:39.984630Z"
    }
   },
   "source": [
    "# Print data from the datafream top 2 and bottom 1\n",
    "df.head(2)\n",
    "df.tail(1)\n",
    "\n",
    "# Print the data type of the columns\n",
    "df.dtypes\n",
    "\n",
    "# Print the summary of the datafream\n",
    "df.describe()\n",
    "\n",
    "# Print the shape of the datafream\n",
    "df.shape\n",
    "\n",
    "df.info()"
   ],
   "outputs": [
    {
     "name": "stdout",
     "output_type": "stream",
     "text": [
      "<class 'pandas.core.frame.DataFrame'>\n",
      "Index: 3 entries, A to C\n",
      "Data columns (total 3 columns):\n",
      " #   Column  Non-Null Count  Dtype\n",
      "---  ------  --------------  -----\n",
      " 0   x       3 non-null      int64\n",
      " 1   y       3 non-null      int64\n",
      " 2   z       3 non-null      int64\n",
      "dtypes: int64(3)\n",
      "memory usage: 96.0+ bytes\n"
     ]
    }
   ],
   "execution_count": 5
  },
  {
   "cell_type": "code",
   "id": "4b2edbc4",
   "metadata": {
    "ExecuteTime": {
     "end_time": "2025-07-27T08:15:40.286957Z",
     "start_time": "2025-07-27T08:15:40.275486Z"
    }
   },
   "source": [
    "df.nunique()\n",
    "df[\"x\"].unique()"
   ],
   "outputs": [
    {
     "data": {
      "text/plain": [
       "array([1, 3, 2])"
      ]
     },
     "execution_count": 6,
     "metadata": {},
     "output_type": "execute_result"
    }
   ],
   "execution_count": 6
  },
  {
   "cell_type": "code",
   "id": "66abd18a",
   "metadata": {
    "ExecuteTime": {
     "end_time": "2025-07-27T08:15:40.425314Z",
     "start_time": "2025-07-27T08:15:40.400999Z"
    }
   },
   "source": [
    "coffee = pd.read_csv(\"./warmup-data/coffee.csv\")"
   ],
   "outputs": [],
   "execution_count": 7
  },
  {
   "cell_type": "code",
   "id": "bed3e2bc",
   "metadata": {
    "ExecuteTime": {
     "end_time": "2025-07-27T23:09:19.519486Z",
     "start_time": "2025-07-27T23:09:19.107368Z"
    }
   },
   "source": [
    "coffee.info()\n",
    "coffee.describe()"
   ],
   "outputs": [
    {
     "ename": "NameError",
     "evalue": "name 'coffee' is not defined",
     "output_type": "error",
     "traceback": [
      "\u001B[31m---------------------------------------------------------------------------\u001B[39m",
      "\u001B[31mNameError\u001B[39m                                 Traceback (most recent call last)",
      "\u001B[36mCell\u001B[39m\u001B[36m \u001B[39m\u001B[32mIn[1]\u001B[39m\u001B[32m, line 1\u001B[39m\n\u001B[32m----> \u001B[39m\u001B[32m1\u001B[39m \u001B[43mcoffee\u001B[49m.info()\n\u001B[32m      2\u001B[39m coffee.describe()\n",
      "\u001B[31mNameError\u001B[39m: name 'coffee' is not defined"
     ]
    }
   ],
   "execution_count": 1
  },
  {
   "metadata": {},
   "cell_type": "code",
   "outputs": [],
   "execution_count": null,
   "source": "",
   "id": "c1eb86bd59334814"
  }
 ],
 "metadata": {
  "kernelspec": {
   "display_name": "myenv",
   "language": "python",
   "name": "python3"
  },
  "language_info": {
   "codemirror_mode": {
    "name": "ipython",
    "version": 3
   },
   "file_extension": ".py",
   "mimetype": "text/x-python",
   "name": "python",
   "nbconvert_exporter": "python",
   "pygments_lexer": "ipython3",
   "version": "3.13.5"
  }
 },
 "nbformat": 4,
 "nbformat_minor": 5
}
