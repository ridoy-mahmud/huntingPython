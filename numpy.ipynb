{
 "cells": [
  {
   "cell_type": "code",
   "execution_count": 10,
   "id": "a510d9c5",
   "metadata": {},
   "outputs": [],
   "source": [
    "import numpy as np\n",
    "import math as mt\n",
    "import turtle"
   ]
  },
  {
   "cell_type": "code",
   "execution_count": 15,
   "id": "c3a93274",
   "metadata": {},
   "outputs": [],
   "source": [
    "turtle.shape(\"circle\")\n",
    "turtle.speed(1)\n",
    "\n",
    "turtle.forward(100)\n",
    "turtle.left(90)\n",
    "turtle.forward(100)\n",
    "turtle.left(90)\n",
    "turtle.forward(100)\n",
    "turtle.left(90)\n",
    "turtle.forward(100)\n",
    "turtle.left(90)\n",
    "\n",
    "turtle.exitonclick()"
   ]
  },
  {
   "cell_type": "code",
   "execution_count": null,
   "id": "d6f8ee02",
   "metadata": {},
   "outputs": [
    {
     "ename": "Terminator",
     "evalue": "",
     "output_type": "error",
     "traceback": [
      "\u001b[31m---------------------------------------------------------------------------\u001b[39m",
      "\u001b[31mTerminator\u001b[39m                                Traceback (most recent call last)",
      "\u001b[36mCell\u001b[39m\u001b[36m \u001b[39m\u001b[32mIn[20]\u001b[39m\u001b[32m, line 5\u001b[39m\n\u001b[32m      3\u001b[39m \u001b[38;5;28;01mfor\u001b[39;00m i \u001b[38;5;129;01min\u001b[39;00m \u001b[38;5;28mrange\u001b[39m(\u001b[32m4\u001b[39m):\n\u001b[32m      4\u001b[39m     turtle.forward(\u001b[32m100\u001b[39m)\n\u001b[32m----> \u001b[39m\u001b[32m5\u001b[39m     \u001b[43mturtle\u001b[49m\u001b[43m.\u001b[49m\u001b[43mleft\u001b[49m\u001b[43m(\u001b[49m\u001b[32;43m90\u001b[39;49m\u001b[43m)\u001b[49m\n\u001b[32m      6\u001b[39m sd\n",
      "\u001b[36mFile \u001b[39m\u001b[32m<string>:8\u001b[39m, in \u001b[36mleft\u001b[39m\u001b[34m(angle)\u001b[39m\n",
      "\u001b[36mFile \u001b[39m\u001b[32m~\\AppData\\Local\\Programs\\Python\\Python313\\Lib\\turtle.py:1697\u001b[39m, in \u001b[36mTNavigator.left\u001b[39m\u001b[34m(self, angle)\u001b[39m\n\u001b[32m   1678\u001b[39m \u001b[38;5;28;01mdef\u001b[39;00m\u001b[38;5;250m \u001b[39m\u001b[34mleft\u001b[39m(\u001b[38;5;28mself\u001b[39m, angle):\n\u001b[32m   1679\u001b[39m \u001b[38;5;250m    \u001b[39m\u001b[33;03m\"\"\"Turn turtle left by angle units.\u001b[39;00m\n\u001b[32m   1680\u001b[39m \n\u001b[32m   1681\u001b[39m \u001b[33;03m    Aliases: left | lt\u001b[39;00m\n\u001b[32m   (...)\u001b[39m\u001b[32m   1695\u001b[39m \u001b[33;03m    67.0\u001b[39;00m\n\u001b[32m   1696\u001b[39m \u001b[33;03m    \"\"\"\u001b[39;00m\n\u001b[32m-> \u001b[39m\u001b[32m1697\u001b[39m     \u001b[38;5;28;43mself\u001b[39;49m\u001b[43m.\u001b[49m\u001b[43m_rotate\u001b[49m\u001b[43m(\u001b[49m\u001b[43mangle\u001b[49m\u001b[43m)\u001b[49m\n",
      "\u001b[36mFile \u001b[39m\u001b[32m~\\AppData\\Local\\Programs\\Python\\Python313\\Lib\\turtle.py:3317\u001b[39m, in \u001b[36mRawTurtle._rotate\u001b[39m\u001b[34m(self, angle)\u001b[39m\n\u001b[32m   3315\u001b[39m     \u001b[38;5;28;01mfor\u001b[39;00m _ \u001b[38;5;129;01min\u001b[39;00m \u001b[38;5;28mrange\u001b[39m(steps):\n\u001b[32m   3316\u001b[39m         \u001b[38;5;28mself\u001b[39m._orient = \u001b[38;5;28mself\u001b[39m._orient.rotate(delta)\n\u001b[32m-> \u001b[39m\u001b[32m3317\u001b[39m         \u001b[38;5;28;43mself\u001b[39;49m\u001b[43m.\u001b[49m\u001b[43m_update\u001b[49m\u001b[43m(\u001b[49m\u001b[43m)\u001b[49m\n\u001b[32m   3318\u001b[39m \u001b[38;5;28mself\u001b[39m._orient = neworient\n\u001b[32m   3319\u001b[39m \u001b[38;5;28mself\u001b[39m._update()\n",
      "\u001b[36mFile \u001b[39m\u001b[32m~\\AppData\\Local\\Programs\\Python\\Python313\\Lib\\turtle.py:2667\u001b[39m, in \u001b[36mRawTurtle._update\u001b[39m\u001b[34m(self)\u001b[39m\n\u001b[32m   2665\u001b[39m     \u001b[38;5;28;01mreturn\u001b[39;00m\n\u001b[32m   2666\u001b[39m \u001b[38;5;28;01melif\u001b[39;00m screen._tracing == \u001b[32m1\u001b[39m:\n\u001b[32m-> \u001b[39m\u001b[32m2667\u001b[39m     \u001b[38;5;28;43mself\u001b[39;49m\u001b[43m.\u001b[49m\u001b[43m_update_data\u001b[49m\u001b[43m(\u001b[49m\u001b[43m)\u001b[49m\n\u001b[32m   2668\u001b[39m     \u001b[38;5;28mself\u001b[39m._drawturtle()\n\u001b[32m   2669\u001b[39m     screen._update()                  \u001b[38;5;66;03m# TurtleScreenBase\u001b[39;00m\n",
      "\u001b[36mFile \u001b[39m\u001b[32m~\\AppData\\Local\\Programs\\Python\\Python313\\Lib\\turtle.py:2653\u001b[39m, in \u001b[36mRawTurtle._update_data\u001b[39m\u001b[34m(self)\u001b[39m\n\u001b[32m   2652\u001b[39m \u001b[38;5;28;01mdef\u001b[39;00m\u001b[38;5;250m \u001b[39m\u001b[34m_update_data\u001b[39m(\u001b[38;5;28mself\u001b[39m):\n\u001b[32m-> \u001b[39m\u001b[32m2653\u001b[39m     \u001b[38;5;28;43mself\u001b[39;49m\u001b[43m.\u001b[49m\u001b[43mscreen\u001b[49m\u001b[43m.\u001b[49m\u001b[43m_incrementudc\u001b[49m\u001b[43m(\u001b[49m\u001b[43m)\u001b[49m\n\u001b[32m   2654\u001b[39m     \u001b[38;5;28;01mif\u001b[39;00m \u001b[38;5;28mself\u001b[39m.screen._updatecounter != \u001b[32m0\u001b[39m:\n\u001b[32m   2655\u001b[39m         \u001b[38;5;28;01mreturn\u001b[39;00m\n",
      "\u001b[36mFile \u001b[39m\u001b[32m~\\AppData\\Local\\Programs\\Python\\Python313\\Lib\\turtle.py:1283\u001b[39m, in \u001b[36mTurtleScreen._incrementudc\u001b[39m\u001b[34m(self)\u001b[39m\n\u001b[32m   1281\u001b[39m \u001b[38;5;28;01mif\u001b[39;00m \u001b[38;5;129;01mnot\u001b[39;00m TurtleScreen._RUNNING:\n\u001b[32m   1282\u001b[39m     TurtleScreen._RUNNING = \u001b[38;5;28;01mTrue\u001b[39;00m\n\u001b[32m-> \u001b[39m\u001b[32m1283\u001b[39m     \u001b[38;5;28;01mraise\u001b[39;00m Terminator\n\u001b[32m   1284\u001b[39m \u001b[38;5;28;01mif\u001b[39;00m \u001b[38;5;28mself\u001b[39m._tracing > \u001b[32m0\u001b[39m:\n\u001b[32m   1285\u001b[39m     \u001b[38;5;28mself\u001b[39m._updatecounter += \u001b[32m1\u001b[39m\n",
      "\u001b[31mTerminator\u001b[39m: "
     ]
    }
   ],
   "source": [
    "turtle.shape(\"turtle\")\n",
    "turtle.speed(1)\n",
    "for i in range(4):\n",
    "    turtle.forward(100)\n",
    "    turtle.left(90)"
   ]
  },
  {
   "cell_type": "code",
   "execution_count": 2,
   "id": "21a0ebd5",
   "metadata": {},
   "outputs": [
    {
     "data": {
      "text/plain": [
       "(2, 3)"
      ]
     },
     "execution_count": 2,
     "metadata": {},
     "output_type": "execute_result"
    }
   ],
   "source": [
    "x=np.array([[3,5,7],[8,3,2]])\n",
    "y=np.array([[4,5,1],[9,1,1]])\n",
    "x.shape"
   ]
  },
  {
   "cell_type": "code",
   "execution_count": 3,
   "id": "abfa4877",
   "metadata": {},
   "outputs": [
    {
     "data": {
      "text/plain": [
       "array([3, 5])"
      ]
     },
     "execution_count": 3,
     "metadata": {},
     "output_type": "execute_result"
    }
   ],
   "source": [
    "x[0,:2]"
   ]
  },
  {
   "cell_type": "code",
   "execution_count": 4,
   "id": "f56718dc",
   "metadata": {},
   "outputs": [
    {
     "data": {
      "text/plain": [
       "array([[ 1,  2,  3,  4],\n",
       "       [ 5,  6,  7,  8],\n",
       "       [ 9, 10, 11, 12]], dtype=int16)"
      ]
     },
     "execution_count": 4,
     "metadata": {},
     "output_type": "execute_result"
    }
   ],
   "source": [
    "from numpy import int16\n",
    "\n",
    "\n",
    "a = np.array([[1, 2, 3, 4], [5, 6, 7, 8], [9, 10, 11, 12]],dtype=int16)\n",
    "a"
   ]
  },
  {
   "cell_type": "code",
   "execution_count": 5,
   "id": "647e20be",
   "metadata": {},
   "outputs": [
    {
     "name": "stdout",
     "output_type": "stream",
     "text": [
      "[25 36 49 64]\n"
     ]
    }
   ],
   "source": [
    "print(np.square(a[1]))"
   ]
  },
  {
   "cell_type": "code",
   "execution_count": 6,
   "id": "e2c7fd83",
   "metadata": {},
   "outputs": [
    {
     "data": {
      "text/plain": [
       "2"
      ]
     },
     "execution_count": 6,
     "metadata": {},
     "output_type": "execute_result"
    }
   ],
   "source": [
    "a.ndim #define the diamentation"
   ]
  },
  {
   "cell_type": "code",
   "execution_count": 7,
   "id": "b03ba044",
   "metadata": {},
   "outputs": [
    {
     "data": {
      "text/plain": [
       "dtype('int16')"
      ]
     },
     "execution_count": 7,
     "metadata": {},
     "output_type": "execute_result"
    }
   ],
   "source": [
    "a.dtype"
   ]
  },
  {
   "cell_type": "code",
   "execution_count": 8,
   "id": "03fcb6cc",
   "metadata": {},
   "outputs": [
    {
     "data": {
      "text/plain": [
       "array([5, 6, 7, 8])"
      ]
     },
     "execution_count": 8,
     "metadata": {},
     "output_type": "execute_result"
    }
   ],
   "source": [
    "l=np.empty(4)\n",
    "np.arange(5,9,1) #get random number from 5-<=9 dis -1"
   ]
  },
  {
   "cell_type": "code",
   "execution_count": 9,
   "id": "62592839",
   "metadata": {},
   "outputs": [
    {
     "name": "stdout",
     "output_type": "stream",
     "text": [
      "An error occurred: axis 3 is out of bounds for array of dimension 0\n"
     ]
    }
   ],
   "source": [
    "from ast import Try\n",
    "\n",
    "def num1(c,d):\n",
    "    try:\n",
    "        x2 = (c, d)\n",
    "        x3 = np.min(c, d)\n",
    "        return x2, x3\n",
    "    except Exception as e:\n",
    "        print(f\"An error occurred: {e}\")\n",
    "        return None\n",
    "\n",
    "(num1(5,3))"
   ]
  }
 ],
 "metadata": {
  "kernelspec": {
   "display_name": "myenv",
   "language": "python",
   "name": "python3"
  },
  "language_info": {
   "codemirror_mode": {
    "name": "ipython",
    "version": 3
   },
   "file_extension": ".py",
   "mimetype": "text/x-python",
   "name": "python",
   "nbconvert_exporter": "python",
   "pygments_lexer": "ipython3",
   "version": "3.13.5"
  }
 },
 "nbformat": 4,
 "nbformat_minor": 5
}
